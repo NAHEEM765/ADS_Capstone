{
 "cells": [
  {
   "cell_type": "code",
   "execution_count": null,
   "id": "06b0205c",
   "metadata": {},
   "outputs": [],
   "source": [
    "import pandas as pd\n",
    "import os\n",
    "import matplotlib.pyplot as plt"
   ]
  },
  {
   "cell_type": "markdown",
   "id": "bdda0e9f-9d43-4a3e-93be-ff514d0a2941",
   "metadata": {},
   "source": [
    "#### #Task 1: Merging 12 months of sales data into a single file"
   ]
  },
  {
   "cell_type": "code",
   "execution_count": null,
   "id": "b57feb86-1303-4981-b3ee-5ecfcd1ef00b",
   "metadata": {},
   "outputs": [],
   "source": [
    "#df = pd.read_csv(\"file path\"), use forward slashes\n",
    "df = pd.read_csv(\"./Pandas_Data_Science_Tasks_master/SalesAnalysis/Sales_Data/\")\n",
    "#reading files in a directory\n",
    "files = [file for file in os.listdir(\"./Pandas_Data_Science_Tasks_master/SalesAnalysis/Sales_Data\")]\n",
    "\n",
    "#Empty dataframe creation \n",
    "all_months_data = pd.DataFrame()\n",
    "\n",
    "for file in files:\n",
    "    df = pd.read_csv(\"./Pandas_Data_Science_Tasks_master/SalesAnalysis/Sales_Data/\" + file)\n",
    "    all_months_data = pd.concat([all_months_data, df])\n",
    "\n",
    "\n",
    "all_months_data.head()\n",
    "all_months_data.to_csv(\"all_data.csv\", index=False)"
   ]
  },
  {
   "cell_type": "markdown",
   "id": "1cde3232-5484-407b-b980-c84831184d6c",
   "metadata": {},
   "source": [
    "### Read in updated dataframe"
   ]
  },
  {
   "cell_type": "code",
   "execution_count": null,
   "id": "c0f9b4e3-4a66-49ad-997a-ec86483d8265",
   "metadata": {},
   "outputs": [],
   "source": [
    "all_data = pd.read_csv(\"all_data.csv\")\n",
    "all_data.head()"
   ]
  },
  {
   "cell_type": "markdown",
   "id": "c1eabb70-35ef-4fa9-8891-46b2588b2707",
   "metadata": {},
   "source": [
    "### Clean up data!"
   ]
  },
  {
   "cell_type": "markdown",
   "id": "2ba6952d-12da-44a0-9ee6-bb6f4bbcefdc",
   "metadata": {},
   "source": [
    "### DROPPING NANs"
   ]
  },
  {
   "cell_type": "code",
   "execution_count": null,
   "id": "63818c22-5dd0-4eec-84af-bd0d649e2a61",
   "metadata": {},
   "outputs": [],
   "source": [
    "#Checking for nan values\n",
    "df_nan = all_data[all_data.isna().any(axis=1)]\n",
    "df_nan\n",
    "\n",
    "#how=\"any\" drops a row with just 1, \"all\" drops a row with all\n",
    "all_data = all_data.dropna(how=\"all\")"
   ]
  },
  {
   "cell_type": "markdown",
   "id": "0fdbd30f-3452-41e1-8d64-4e8d8f088c13",
   "metadata": {},
   "source": [
    "### Find \"Or\" and delete"
   ]
  },
  {
   "cell_type": "code",
   "execution_count": null,
   "id": "2aa22ce0-a1d6-490a-9eeb-aeefab3df81d",
   "metadata": {},
   "outputs": [],
   "source": [
    "all_data = all_data[all_data[\"Order Date\"].str[0:2] != \"Or\"]\n",
    "all_data"
   ]
  },
  {
   "cell_type": "markdown",
   "id": "9e420c78-bdc7-4b0a-9843-8655c2ccbef0",
   "metadata": {},
   "source": [
    "### Augment Data With additional Columns"
   ]
  },
  {
   "cell_type": "markdown",
   "id": "ab15f33d-75be-495a-85bb-236294cf8b60",
   "metadata": {},
   "source": [
    "### Task 2: Adding the month column"
   ]
  },
  {
   "cell_type": "code",
   "execution_count": null,
   "id": "e3c54530-cd18-402d-bbfb-49112db0c1e8",
   "metadata": {},
   "outputs": [],
   "source": [
    "all_data[\"Month\"] = all_data[\"Order Date\"].str[0:2]\n",
    "all_data[\"Month\"] = all_data[\"Month\"].astype(\"int32\")\n",
    "all_data.head()"
   ]
  },
  {
   "cell_type": "markdown",
   "id": "d5f024b0-7d7e-4e7e-a7f6-ba3cc3fb66fc",
   "metadata": {},
   "source": [
    "### Task 3: Add a sales column"
   ]
  },
  {
   "cell_type": "markdown",
   "id": "dc247053-f1be-4ef8-9bb4-0444607dc6e6",
   "metadata": {},
   "source": [
    "### Convert to correct column types"
   ]
  },
  {
   "cell_type": "code",
   "execution_count": null,
   "id": "96fb38f0-a753-46db-893f-f5275fc3262c",
   "metadata": {},
   "outputs": [],
   "source": [
    "#Convert datatypes to floats to multiply\n",
    "all_data.dtypes\n",
    "all_data[\"Quantity Ordered\"] = all_data[\"Quantity Ordered\"].astype(\"int32\")\n",
    "all_data[\"Price Each\"] = all_data[\"Price Each\"].astype(\"float\")\n",
    "\n",
    "#ALTERNATIVELY\n",
    "#all_data[\"Quantity Ordered\"] = pd.tonumeric.(all_data[\"Quantity Ordered\"])\n",
    "#all_data[\"Price Each\"] = pd.tonumeric(all_data[\"Price Each\"])"
   ]
  },
  {
   "cell_type": "code",
   "execution_count": null,
   "id": "4e88cc3a-8cb3-4f16-b73d-4caf1331c028",
   "metadata": {},
   "outputs": [],
   "source": [
    "all_data[\"Sales\"] = all_data[\"Price Each\"] * all_data[\"Quantity Ordered\"]\n",
    "#all_data.columns.get_loc(\"key\")\n",
    "\n",
    "#REORDERING\n",
    "#col = all_data.pop('Sales')\n",
    "#all_data.insert(4, col.name, col)\n",
    " \n",
    "\n",
    "all_data.reset_index(inplace=True)\n",
    "all_data.drop(columns = [\"index\"])"
   ]
  },
  {
   "cell_type": "markdown",
   "id": "325718ee",
   "metadata": {},
   "source": [
    "#### Task 4: Add a city Column"
   ]
  },
  {
   "cell_type": "code",
   "execution_count": null,
   "id": "7407ad80",
   "metadata": {},
   "outputs": [],
   "source": [
    "#Getting the cities\n",
    "def get_city(address):\n",
    "    return address.split(\",\")[1]\n",
    "\n",
    "def get_state(address):\n",
    "    return address.split(\",\")[2].split(\" \")[1]\n",
    "\n",
    "#Using apply method to access any function\n",
    "all_data[\"City\"] = all_data[\"Purchase Address\"].apply(lambda x: f\"{get_city(x)} ({get_state(x)})\")\n",
    "all_data"
   ]
  },
  {
   "cell_type": "code",
   "execution_count": null,
   "id": "185cb2f9",
   "metadata": {},
   "outputs": [],
   "source": []
  },
  {
   "cell_type": "markdown",
   "id": "4570e34c-9b10-4232-ad1b-b71b5e5df83d",
   "metadata": {},
   "source": [
    "# Question 1: Month with the best sales?"
   ]
  },
  {
   "cell_type": "code",
   "execution_count": null,
   "id": "de34da93-88fe-4a6a-b0da-a4163f8d3be3",
   "metadata": {},
   "outputs": [],
   "source": [
    "res = all_data.groupby(\"Month\").sum()"
   ]
  },
  {
   "cell_type": "code",
   "execution_count": null,
   "id": "29fc9a17-bf77-4e08-957b-18fc746b68de",
   "metadata": {},
   "outputs": [],
   "source": [
    "import matplotlib.pyplot as plt\n",
    "\n",
    "months = range(1, 13)\n",
    "\n",
    "plt.bar(months, res[\"Sales\"])\n",
    "\n",
    "plt.xticks(months)\n",
    "plt.ylabel(\"Sales in USD ($)\")\n",
    "plt.xlabel(\"Month number\")\n",
    "plt.show()\n"
   ]
  },
  {
   "cell_type": "markdown",
   "id": "58adfec5",
   "metadata": {},
   "source": [
    "### Question 2: What city had the highest number of sales"
   ]
  },
  {
   "cell_type": "code",
   "execution_count": null,
   "id": "2a1d46ce-f160-4d29-93c7-391e38c9cd24",
   "metadata": {},
   "outputs": [],
   "source": [
    "sales = all_data.groupby(\"City\").sum()\n",
    "sales"
   ]
  },
  {
   "cell_type": "code",
   "execution_count": null,
   "id": "a2c2079f",
   "metadata": {},
   "outputs": [],
   "source": [
    "#cities = all_data[\"City\"].unique() ---> The x axis orders the unique values according to where they appear, above function resolves this\n",
    "#Corrects the order of the x axis\n",
    "cities = [city for city, df in all_data.groupby(\"City\")]\n",
    "\n",
    "plt.bar(cities, sales[\"Sales\"]) \n",
    "plt.xticks(cities, rotation=\"vertical\", size = 7)\n",
    "plt.ylabel(\"Sales in USD ($)\")\n",
    "plt.xlabel(\"City name\")\n",
    "plt.show()"
   ]
  },
  {
   "cell_type": "markdown",
   "id": "10c06bce",
   "metadata": {},
   "source": [
    "##### Question 3: What Time should we display ads to maximize likelihood of customer's buying product?"
   ]
  },
  {
   "cell_type": "code",
   "execution_count": null,
   "id": "4e948551",
   "metadata": {},
   "outputs": [],
   "source": [
    "all_data.head()\n",
    "\n",
    "def get_time(date):\n",
    "    return date.split(\" \")[1]\n",
    "\n",
    "all_data[\"Time\"] = all_data[\"Order Date\"].apply(lambda a: get_time(a))\n",
    "all_data[\"Time\"]"
   ]
  },
  {
   "cell_type": "code",
   "execution_count": null,
   "id": "88978826",
   "metadata": {},
   "outputs": [],
   "source": [
    "#Converting to date-time format\n",
    "all_data.drop(columns=\"index\", inplace=True)\n",
    "\n",
    "all_data[\"Order Date\"] = pd.to_datetime(all_data[\"Order Date\"])\n",
    "all_data.head()"
   ]
  },
  {
   "cell_type": "code",
   "execution_count": null,
   "id": "de5dcf18",
   "metadata": {},
   "outputs": [],
   "source": [
    "#Grabbing the hours \n",
    "all_data[\"Hour\"] = all_data[\"Order Date\"].dt.hour\n",
    "#Grabbing the hours \n",
    "all_data[\"minute\"] = all_data[\"Order Date\"].dt.minute\n",
    "all_data.head()\n"
   ]
  },
  {
   "cell_type": "code",
   "execution_count": null,
   "id": "a34cb49b",
   "metadata": {},
   "outputs": [],
   "source": [
    "\n",
    "hours = [hour for hour, df in all_data.groupby(\"Hour\")]\n",
    "\n",
    "plt.plot(hours, all_data.groupby([\"Hour\"]).count())\n",
    "plt.xticks(hours)\n",
    "plt.grid()\n",
    "plt.xlabel(\"HOURS\")\n",
    "plt.ylabel(\"Number of Orders\")\n",
    "\n",
    "\n",
    "all_data.groupby([\"Hour\"]).count()\n"
   ]
  },
  {
   "cell_type": "code",
   "execution_count": null,
   "id": "b2b4b13a",
   "metadata": {},
   "outputs": [],
   "source": []
  },
  {
   "cell_type": "code",
   "execution_count": null,
   "id": "dfd95437",
   "metadata": {},
   "outputs": [],
   "source": []
  },
  {
   "cell_type": "code",
   "execution_count": null,
   "id": "ecff7606",
   "metadata": {},
   "outputs": [],
   "source": []
  },
  {
   "cell_type": "code",
   "execution_count": null,
   "id": "7c928fb2",
   "metadata": {},
   "outputs": [],
   "source": []
  }
 ],
 "metadata": {
  "kernelspec": {
   "display_name": "Python 3 (ipykernel)",
   "language": "python",
   "name": "python3"
  }
 },
 "nbformat": 4,
 "nbformat_minor": 5
}
